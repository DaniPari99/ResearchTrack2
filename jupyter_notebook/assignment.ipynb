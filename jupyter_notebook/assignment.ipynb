{
 "cells": [
  {
   "cell_type": "code",
   "execution_count": null,
   "id": "433e4509",
   "metadata": {
    "ExecuteTime": {
     "end_time": "2022-05-03T21:06:56.832811Z",
     "start_time": "2022-05-03T21:06:45.173135Z"
    }
   },
   "outputs": [],
   "source": [
    "#event of clicking the button\n",
    "import rospy\n",
    "from geometry_msgs.msg import Twist\n",
    "from sensor_msgs.msg import LaserScan\n",
    "from nav_msgs.msg import Odometry\n",
    "from move_base_msgs.msg import MoveBaseActionGoal\n",
    "from move_base_msgs.msg import MoveBaseActionFeedback\n",
    "from actionlib_msgs.msg import GoalStatusArray\n",
    "from actionlib_msgs.msg import GoalID\n",
    "\n",
    "import array as arr\n",
    "import numpy as np\n",
    "import time\n",
    "\n",
    "#libraries for the widgets\n",
    "from ipywidgets import Button, Layout, ButtonStyle, GridBox, VBox, HBox, FloatText\n",
    "import ipywidgets as widgets\n",
    "from IPython.display import display\n",
    "\n",
    "#libraries for plotting\n",
    "import matplotlib.pyplot as plt\n",
    "import matplotlib.axes as ax\n",
    "import rospy\n",
    "import tf\n",
    "from tf.transformations import quaternion_matrix\n",
    "import numpy as np\n",
    "from matplotlib.animation import FuncAnimation\n",
    "import math\n",
    "%matplotlib widget\n",
    "\n",
    "DTH = 1.0\n",
    "GOAL_TH = 0.5\n",
    "\n",
    "#declare the boolean variable for differentiating the three modalities\n",
    "manDrive = False\n",
    "collisionAvoidence = False\n",
    "goal = False\n",
    "\n",
    "\n",
    "my_vel = Twist() #variable of type msg Twist\n",
    "goal_msg = MoveBaseActionGoal() #variable of type msg for storing the goal to publish\n",
    "canc_goal = GoalID() #message fro cancelling a goal when is reached\n",
    "ID = \"\"\n",
    "reached = 0\n",
    "not_reached = 0\n",
    "\n",
    "#variables for computing the goal reached\n",
    "time_start = 0\n",
    "time_end = 0\n",
    "time_passed = 0\n",
    "\n",
    "#textBox for the coordinate x of the goal\n",
    "textBox_x = widgets.FloatText(\n",
    "    value = 0,\n",
    "    description = 'type a x:',\n",
    "    disabled = False\n",
    ")\n",
    "\n",
    "#textBox for the coordinate y of the goal\n",
    "textBox_y = widgets.FloatText(\n",
    "    value = 0,\n",
    "    description = 'type a y:',\n",
    "    disabled = False\n",
    ")"
   ]
  },
  {
   "cell_type": "code",
   "execution_count": null,
   "id": "999b1f3d",
   "metadata": {
    "ExecuteTime": {
     "end_time": "2022-05-03T21:06:56.870668Z",
     "start_time": "2022-05-03T21:06:56.842486Z"
    }
   },
   "outputs": [],
   "source": [
    "#function for cancelling the goal once it is reached\n",
    "def CancelGoal():\n",
    "    global goal\n",
    "    global canc_goal\n",
    "    global ID\n",
    "    global pub_cancel\n",
    "    \n",
    "    if goal == False:\n",
    "        return False\n",
    "    canc_goal.id = ID\n",
    "    pub_cancel.publish(canc_goal)\n",
    "    goal = False\n",
    "    return True\n"
   ]
  },
  {
   "cell_type": "code",
   "execution_count": null,
   "id": "f768ddc9",
   "metadata": {
    "ExecuteTime": {
     "end_time": "2022-05-03T21:06:56.958645Z",
     "start_time": "2022-05-03T21:06:56.877393Z"
    }
   },
   "outputs": [],
   "source": [
    "#function called everytime the current position of the robot is changing\n",
    "def CurrentPositionCallback(msg):\n",
    "    global ID\n",
    "    global goal\n",
    "    global textBox_x\n",
    "    global textBox_y\n",
    "    global reached\n",
    "    global not_reached\n",
    "    global time_start\n",
    "    global time_end\n",
    "    global time_passed \n",
    "    TIMEOUT = 180\n",
    "    \n",
    "    #Update the goal ID if there is a new goal\n",
    "    if ID != msg.status.goal_id.id:\n",
    "    \n",
    "        ID = msg.status.goal_id.id\n",
    "    \n",
    "    \n",
    "    if goal == True:\n",
    "        #take the current robot position\n",
    "        robot_x = msg.feedback.base_position.pose.position.x\n",
    "        robot_y = msg.feedback.base_position.pose.position.y\n",
    "    \n",
    "        #calculate the error from the actual position and the goal position\n",
    "        dist_x = robot_x - textBox_x.value \n",
    "        dist_y = robot_y - textBox_y.value \n",
    "\n",
    "        #if the robot is on the goal position\n",
    "        if abs(dist_x) <= 0.5 and abs(dist_y) <= 0.5:\n",
    "    \n",
    "            print(\"Goal reached\")\n",
    "            reached += 1\n",
    "            print(\"reached\", reached)\n",
    "            time_passed = -1\n",
    "            #time_start = time.time_ns()/ (10 ** 9)\n",
    "            #time_end = time.time_ns()/ (10 ** 9)\n",
    "            \n",
    "            CancelGoal()\n",
    "         \n",
    "        time_end = time.time_ns()/ (10 ** 9)\n",
    "        time_passed = (time_end - time_start)\n",
    "        \n",
    "        #if the time passed is over 3 minutes the goal is considered not reacheable\n",
    "        if(time_passed > TIMEOUT):\n",
    "            print(\"The actual goal can't be reached!\\n\")\n",
    "            not_reached += 1\n",
    "            print(\"not_reached:\", not_reached)\n",
    "            CancelGoal() #Cancel the goal if it can't be reached\n",
    "            time_passed = -1\n",
    "        "
   ]
  },
  {
   "cell_type": "code",
   "execution_count": null,
   "id": "5c52a45f",
   "metadata": {
    "ExecuteTime": {
     "end_time": "2022-05-03T21:06:57.034837Z",
     "start_time": "2022-05-03T21:06:57.001502Z"
    }
   },
   "outputs": [],
   "source": [
    "#function called everytime that cmd_vel topic is changed\n",
    "def GetVelCallback(msg): \n",
    "    global manDrive\n",
    "    global collisionAvoidence\n",
    "    \n",
    "    if manDrive == False and collisionAvoidence == False:\n",
    "        return\n",
    "    \n",
    "    if manDrive == True and collisionAvoidence == False:\n",
    "        pub_vel.publish(msg)\n",
    "        return\n",
    "    \n",
    "    if manDrive == False and collisionAvoidence == True:\n",
    "        my_vel.linear.x = msg.linear.x\n",
    "        my_vel.angular.z = msg.angular.z    "
   ]
  },
  {
   "cell_type": "code",
   "execution_count": null,
   "id": "34d1bb1d",
   "metadata": {
    "ExecuteTime": {
     "end_time": "2022-05-03T21:06:57.133159Z",
     "start_time": "2022-05-03T21:06:57.067758Z"
    }
   },
   "outputs": [],
   "source": [
    "#function for computing the minimum element of an array\n",
    "def ComputeMinDist(*scan, size):\n",
    "    \n",
    "    min_dist = np.min(scan)\n",
    "\n",
    "\n",
    "    return min_dist\n",
    "\n"
   ]
  },
  {
   "cell_type": "code",
   "execution_count": null,
   "id": "9e245b2c",
   "metadata": {
    "ExecuteTime": {
     "end_time": "2022-05-03T21:06:57.393841Z",
     "start_time": "2022-05-03T21:06:57.172891Z"
    }
   },
   "outputs": [],
   "source": [
    "#function called everytime the third modality is chosen for enabling the collision avoidence\n",
    "def CollisionAvoidenceCallback(msg):\n",
    "    \n",
    "    global my_vel\n",
    "    global collisionAvoidence\n",
    "    \n",
    "    if collisionAvoidence == False:\n",
    "        return\n",
    "    #get array ranges by laserscan\n",
    "    scan = np.tile(np.float32(0), len(msg.ranges))\n",
    "    #scan = np.arange(len(msg.ranges))\n",
    "    for j in range(0, len(msg.ranges)):\n",
    "    \n",
    "        scan[j] = msg.ranges[j]\n",
    "    \n",
    "    \n",
    "    #divide the array ranges values in 5 sectors \n",
    "    sector_size = (len(msg.ranges))/5 \n",
    "    left = np.arange(sector_size)\n",
    "    front_left = np.arange(sector_size)\n",
    "    front = np.arange(sector_size)\n",
    "    front_right = np.arange(sector_size)\n",
    "    right = np.arange(sector_size)\n",
    "    \n",
    "    #fill sector arrays\n",
    "    for i in range(0, int(sector_size)):\n",
    "    \n",
    "        right[i] = scan[i]\n",
    "    \n",
    "    \n",
    "    for i in range(0, int(sector_size)):\n",
    "    \n",
    "        front_right[i] = scan[i + int(sector_size)]\n",
    "    \n",
    "    \n",
    "    for i in range(0, int(sector_size)):\n",
    "    \n",
    "        front[i] = scan[i + 2*int(sector_size)]\n",
    "    \n",
    "    \n",
    "    for i in range(0, int(sector_size)):\n",
    "    \n",
    "        front_left[i] = scan[i + 3*int(sector_size)]\n",
    "    \n",
    "    \n",
    "    for i in range(0, int(sector_size)):\n",
    "    \n",
    "        left[i] = scan[i + 4*int(sector_size)]\n",
    "    \n",
    "\n",
    "    #check if the robot is going to crash to obstacles and in case stop it\n",
    "    if(ComputeMinDist(front, size = int(sector_size)) < 1.0): \n",
    "    \n",
    "        if(my_vel.linear.x > 0.0 and my_vel.angular.z == 0.0):\n",
    "        \n",
    "            my_vel.linear.x = 0\n",
    "            print(\"Attenction: there is an obstacle in front\\n\") \n",
    "        \n",
    "    \n",
    "    if(ComputeMinDist(front_left, size = int(sector_size)) < 1.0):\n",
    "    \n",
    "        if(my_vel.linear.x > 0.0 and my_vel.angular.z > 0.0):\n",
    "            \n",
    "            my_vel.linear.x = 0.0\n",
    "            my_vel.angular.z = 0.0\n",
    "            print(\"Attenction: there is an obstacle on the front-left\\n\")\n",
    "\n",
    "    if(ComputeMinDist(front_right, size = int(sector_size)) < 1.0):\n",
    "\n",
    "        if(my_vel.linear.x > 0.0 and my_vel.angular.z < 0.0):\n",
    "\n",
    "            my_vel.linear.x = 0.0\n",
    "            my_vel.angular.z = 0.0\n",
    "            print(\"Attenction: there is an obstacle on the front-right\\n\")\n",
    "\n",
    "    if(ComputeMinDist(left, size = int(sector_size)) < 1.0):\n",
    "\n",
    "        if(my_vel.linear.x == 0.0 and my_vel.angular.z > 0.0):\n",
    "\n",
    "            my_vel.angular.z = 0.0\n",
    "            print(\"Attenction: there is an obstacle on the left\\n\")\n",
    "            \n",
    "    if(ComputeMinDist(right, size = int(sector_size)) < 1.0):\n",
    "\n",
    "        if(my_vel.linear.x == 0.0 and my_vel.angular.z < 0.0):\n",
    "\n",
    "            my_vel.angular.z = 0.0\n",
    "            print(\"Attenction: there is an obstacle on the right\\n\")\n",
    "\n",
    "    pub_vel.publish(my_vel) #publish the corrected velocity for avoiding collisions "
   ]
  },
  {
   "cell_type": "code",
   "execution_count": null,
   "id": "bc742ef2",
   "metadata": {
    "ExecuteTime": {
     "end_time": "2022-05-03T21:06:57.474770Z",
     "start_time": "2022-05-03T21:06:57.425466Z"
    }
   },
   "outputs": [],
   "source": [
    "#function for displaying the widgets for setting the desirable goal\n",
    "def DisplayDesirableGoal(): \n",
    "    \n",
    "    output_textBox_goal_x = widgets.Output()\n",
    "    display(textBox_x, output_textBox_goal_x)\n",
    "    \n",
    "    output_textBox_goal_y = widgets.Output()\n",
    "    display(textBox_y, output_textBox_goal_y)"
   ]
  },
  {
   "cell_type": "code",
   "execution_count": null,
   "id": "39223e98",
   "metadata": {
    "ExecuteTime": {
     "end_time": "2022-05-03T21:06:57.618437Z",
     "start_time": "2022-05-03T21:06:57.513847Z"
    }
   },
   "outputs": [],
   "source": [
    "#function trigguered everytime 'sent goal button' is pressed\n",
    "def OnButtonSendGoalClicked(b):\n",
    "    global goal\n",
    "    global time_start\n",
    "    global time_passed\n",
    "    global time_end\n",
    "    \n",
    "    time_passed = -1\n",
    "    time_end = time.time_ns()/ (10 ** 9)\n",
    "    time_start = time.time_ns() / (10 ** 9)\n",
    "    \n",
    "    goal = True\n",
    "    \n",
    "    #setting the coordinates goal fields with the current textBox value    \n",
    "    goal_msg.goal.target_pose.pose.position.x = textBox_x.value \n",
    "    goal_msg.goal.target_pose.pose.position.y = textBox_y.value\n",
    "    \n",
    "    #publish the goal chosen by the user\n",
    "    pub_goal.publish(goal_msg)\n",
    "    print(\"goal sent\")"
   ]
  },
  {
   "cell_type": "code",
   "execution_count": null,
   "id": "c859e67c",
   "metadata": {
    "ExecuteTime": {
     "end_time": "2022-05-03T21:06:57.727904Z",
     "start_time": "2022-05-03T21:06:57.648681Z"
    }
   },
   "outputs": [],
   "source": [
    "#function trigguered everytime 'button1' is pressed\n",
    "def OnButton1Clicked(b):\n",
    "    global manDrive\n",
    "    global collisionAvoidence\n",
    "    global goal\n",
    "    global goal_msg\n",
    "    \n",
    "    #with output1:\n",
    "    print(\"1st modality chosen.\")\n",
    "        \n",
    "    #set two boolean variables according to the first modality\n",
    "    manDrive = False\n",
    "    collisionAvoidence = False\n",
    "    print(\"what target do you want to achieve?\")\n",
    "        \n",
    "    DisplayDesirableGoal()\n",
    "        \n",
    "    #print at screen the button 'send goal'\n",
    "    display(button_send_goal, output_send_goal)\n",
    "    \n",
    "    #default operations\n",
    "    goal_msg.goal.target_pose.header.frame_id = 'map'\n",
    "    goal_msg.goal.target_pose.pose.orientation.w = 1\n",
    "        \n",
    "    #when the button 'send goal' is pressend, execute the function 'on_ButtonSendGoalClicked'\n",
    "    button_send_goal.on_click(OnButtonSendGoalClicked)   "
   ]
  },
  {
   "cell_type": "code",
   "execution_count": null,
   "id": "08eeb2a0",
   "metadata": {
    "ExecuteTime": {
     "end_time": "2022-05-03T21:06:57.895686Z",
     "start_time": "2022-05-03T21:06:57.826073Z"
    }
   },
   "outputs": [],
   "source": [
    "#function trigguered everytime button2 is pressed\n",
    "def OnButton2Clicked(b):\n",
    "    global manDrive\n",
    "    global collisionAvoidence\n",
    "    \n",
    "    #with output2:\n",
    "    print(\"2nd modality chosen\")\n",
    "    \n",
    "    CancelGoal()\n",
    "    \n",
    "    #with output2:\n",
    "    #set the boolean variables according to the second modality\n",
    "    manDrive = True\n",
    "    collisionAvoidence = False\n",
    "    \n",
    "    DriveRobot()\n",
    "        "
   ]
  },
  {
   "cell_type": "code",
   "execution_count": null,
   "id": "47aa8500",
   "metadata": {
    "ExecuteTime": {
     "end_time": "2022-05-03T21:06:57.988784Z",
     "start_time": "2022-05-03T21:06:57.929937Z"
    }
   },
   "outputs": [],
   "source": [
    "#function trigguered everytime button3 is pressed\n",
    "def OnButton3Clicked(b):\n",
    "    global manDrive\n",
    "    global collisionAvoidence\n",
    "    \n",
    "    #with output3:\n",
    "    print(\"3rd modality chosen\")\n",
    "    \n",
    "    #set the boolean variables according to the third modality\n",
    "    manDrive = False\n",
    "    collisionAvoidence = True\n",
    "    \n",
    "    DriveRobot()"
   ]
  },
  {
   "cell_type": "code",
   "execution_count": null,
   "id": "c2686001",
   "metadata": {
    "ExecuteTime": {
     "end_time": "2022-05-03T21:06:58.209275Z",
     "start_time": "2022-05-03T21:06:57.991925Z"
    }
   },
   "outputs": [],
   "source": [
    "#function for driving the robot through a keyboard\n",
    "def DriveRobot():\n",
    "    \n",
    "    button5 = Button(description='left',\n",
    "        layout=Layout(width='auto', align=\"center\", grid_area='b5'),\n",
    "        style=ButtonStyle(button_color='salmon'))\n",
    "    button6 = Button(description='straight',\n",
    "        layout=Layout(width='auto', grid_area='b6'),\n",
    "        style=ButtonStyle(button_color='salmon'))\n",
    "    button7 = Button(description='right',\n",
    "        layout=Layout(width='auto', grid_area='b7'),\n",
    "        style=ButtonStyle(button_color='salmon'))\n",
    "    button8 = Button(description='back',\n",
    "        layout=Layout(width='auto', grid_area='b8'),\n",
    "        style=ButtonStyle(button_color='salmon'))\n",
    "    button9 = Button(description='stop',\n",
    "        layout=Layout(width='auto', grid_area='b9'),\n",
    "        style=ButtonStyle(button_color='salmon'))\n",
    "    \n",
    "    output5 = widgets.Output()\n",
    "    output6 = widgets.Output()\n",
    "    output7 = widgets.Output()\n",
    "    output8 = widgets.Output()\n",
    "    output9 = widgets.Output()\n",
    "    \n",
    "    display(button5, output5)\n",
    "    display(button6, output6)\n",
    "    display(button7, output7)\n",
    "    display(button8, output8)\n",
    "    display(button9, output9)\n",
    "    \n",
    "    button5.on_click(OnButton5Clicked)\n",
    "    button6.on_click(OnButton6Clicked)\n",
    "    button7.on_click(OnButton7Clicked)\n",
    "    button8.on_click(OnButton8Clicked)\n",
    "    button9.on_click(OnButton9Clicked)"
   ]
  },
  {
   "cell_type": "code",
   "execution_count": null,
   "id": "8ba61bde",
   "metadata": {
    "ExecuteTime": {
     "end_time": "2022-05-03T21:06:58.427941Z",
     "start_time": "2022-05-03T21:06:58.291054Z"
    }
   },
   "outputs": [],
   "source": [
    "#function executed everytime the button5 is typed\n",
    "def OnButton5Clicked(b):\n",
    "    #turn left\n",
    "    global my_vel\n",
    "    \n",
    "    my_vel.linear.x = 0.5\n",
    "    my_vel.angular.z = 1.0\n",
    "    \n",
    "    pub_vel.publish(my_vel)\n",
    "\n",
    "#function executed everytime the button6 is typed\n",
    "def OnButton6Clicked(b):\n",
    "    #go straight on\n",
    "    global my_vel\n",
    "    \n",
    "    my_vel.linear.x = 0.5\n",
    "    my_vel.angular.z = 0.0\n",
    "    \n",
    "    pub_vel.publish(my_vel)\n",
    "\n",
    "#function executed everytime the button7 is typed\n",
    "def OnButton7Clicked(b):\n",
    "    #turn right\n",
    "    global my_vel\n",
    "    \n",
    "    my_vel.linear.x = 0.5\n",
    "    my_vel.angular.z = -1.0\n",
    "    \n",
    "    pub_vel.publish(my_vel)\n",
    "\n",
    "#function executed everytime the button8 is typed\n",
    "def OnButton8Clicked(b):\n",
    "    #go back\n",
    "    global my_vel\n",
    "    \n",
    "    my_vel.linear.x = -0.5\n",
    "    my_vel.angular.z = 0.0\n",
    "    \n",
    "    pub_vel.publish(my_vel)\n",
    "\n",
    "#function executed everytime the button9 is typed\n",
    "def OnButton9Clicked(b):\n",
    "    #stop\n",
    "    global my_vel\n",
    "    \n",
    "    my_vel.linear.x = 0.0\n",
    "    my_vel.angular.z = 0.0\n",
    "    \n",
    "    pub_vel.publish(my_vel)"
   ]
  },
  {
   "cell_type": "code",
   "execution_count": null,
   "id": "04ab2220",
   "metadata": {
    "ExecuteTime": {
     "end_time": "2022-05-03T21:07:01.896198Z",
     "start_time": "2022-05-03T21:06:58.438061Z"
    }
   },
   "outputs": [],
   "source": [
    "rospy.init_node(\"continuation_assignment\")\n",
    "\n",
    "#publisher\n",
    "pub_vel = rospy.Publisher(\"/cmd_vel\", Twist, queue_size=1)\n",
    "pub_goal = rospy.Publisher(\"/move_base/goal\", MoveBaseActionGoal, queue_size=1)\n",
    "pub_cancel = rospy.Publisher(\"/move_base/cancel\", GoalID, queue_size=1)\n",
    "\n",
    "#subscriber\n",
    "sub_vel = rospy.Subscriber(\"/new_cmd_vel\", Twist, GetVelCallback)\n",
    "sub_pos = rospy.Subscriber(\"/move_base/feedback\", MoveBaseActionFeedback, CurrentPositionCallback)\n",
    "sub_laser = rospy.Subscriber(\"/scan\", LaserScan, CollisionAvoidenceCallback)\n",
    "\n",
    "print(\"select a modality\")\n",
    "\n",
    "#definition of the 3 modalities buttons widgets\n",
    "button1 = widgets.Button(description = \"modality 1\")\n",
    "button2 = widgets.Button(description = \"modality 2\")\n",
    "button3 = widgets.Button(description = \"modality 3\")\n",
    "button4 = widgets.Button(description = \"view goal statistics\",\n",
    "                        style=ButtonStyle(button_color='moccasin'))\n",
    "output1 = widgets.Output()\n",
    "output2 = widgets.Output()\n",
    "output3 = widgets.Output()\n",
    "output4 = widgets.Output()\n",
    "\n",
    "#print at screen the 3 modalities buttons\n",
    "display(button1, output1)\n",
    "display(button2, output2)\n",
    "display(button3, output3)\n",
    "display(button4, output4)\n",
    "\n",
    "#definition of the button for sending the goal chosen by the user\n",
    "button_send_goal = widgets.Button(description=\"send goal\")\n",
    "output_send_goal = widgets.Output()"
   ]
  },
  {
   "cell_type": "code",
   "execution_count": null,
   "id": "d8060b9e",
   "metadata": {
    "ExecuteTime": {
     "end_time": "2022-05-03T21:07:02.654695Z",
     "start_time": "2022-05-03T21:07:01.901437Z"
    },
    "scrolled": false
   },
   "outputs": [],
   "source": [
    "#class for plotting the laser scanner\n",
    "class VisualiseObstacles:\n",
    "    \n",
    "    def __init__(self):\n",
    "        \n",
    "        self.fig, self.ax = plt.subplots()\n",
    "        self.ln, = self.ax.plot([], [],'ro')\n",
    "        #self.ln, = plt.plot([], [], 'ro')\n",
    "        self.x_data, self.y_data = [] , []\n",
    "        \n",
    "    def plot_init(self):\n",
    "        self.ax.set_xlim(0, 720)\n",
    "        self.ax.set_ylim(0, 14)\n",
    "        return self.ln\n",
    "\n",
    "    def LaserScanCallback(self, msg):\n",
    "        self.y_data = []\n",
    "        self.x_data = []\n",
    "        for i in range(0, len(msg.ranges), 10):\n",
    "            \n",
    "            self.y_data.append(msg.ranges[i])\n",
    "            self.x_data.append(i)\n",
    "    \n",
    "    def update_plot(self, frame): \n",
    "        #self.ax.cla()\n",
    "        self.ln.set_data(self.x_data, self.y_data)\n",
    "        return self.ln\n",
    "\n",
    "vis = VisualiseObstacles()\n",
    "sub = rospy.Subscriber(\"/scan\", LaserScan, vis.LaserScanCallback)\n",
    "ani = FuncAnimation(vis.fig, vis.update_plot, init_func=vis.plot_init)"
   ]
  },
  {
   "cell_type": "code",
   "execution_count": null,
   "id": "3233ffb9",
   "metadata": {
    "ExecuteTime": {
     "end_time": "2022-05-03T21:07:03.348229Z",
     "start_time": "2022-05-03T21:07:02.677196Z"
    }
   },
   "outputs": [],
   "source": [
    "#class for plotting the robot position\n",
    "class VisualizeOdometry:\n",
    "    \n",
    "    def __init__(self):\n",
    "        self.fig, self.ax = plt.subplots()\n",
    "        #self.ln, = plt.plot([], [], 'ro')\n",
    "        self.ln, = self.ax.plot([], [],'ro')\n",
    "        self.x_data, self.y_data = [] , []\n",
    "        \n",
    "    def PlotInit(self):\n",
    "        self.ax.set_xlim(-10, 10)\n",
    "        self.ax.set_ylim(-10, 10)\n",
    "        return self.ln\n",
    "    \n",
    "    def OdomCallback(self, msg):\n",
    "        self.y_data.append(msg.pose.pose.position.y)\n",
    "        self.x_data.append(msg.pose.pose.position.x)\n",
    "        \n",
    "    def UpdatePlot(self, frame):\n",
    "        self.ln.set_data(self.x_data, self.y_data)\n",
    "        return self.ln\n",
    "    \n",
    "vis2 = VisualizeOdometry()\n",
    "sub2 = rospy.Subscriber('/odom', Odometry, vis2.OdomCallback)\n",
    "\n",
    "ani2 = FuncAnimation(vis2.fig, vis2.UpdatePlot, init_func=vis2.PlotInit)"
   ]
  },
  {
   "cell_type": "code",
   "execution_count": null,
   "id": "bddbc22a",
   "metadata": {
    "ExecuteTime": {
     "end_time": "2022-05-03T21:07:04.031262Z",
     "start_time": "2022-05-03T21:07:03.404583Z"
    }
   },
   "outputs": [],
   "source": [
    "fig, ax = plt.subplots()\n",
    "\n",
    "#function for plotting the situation of goal reached/not reached\n",
    "def OnButton4Clicked(b):\n",
    "    #plt.cla()\n",
    "    #fig, ax = plt.subplots()\n",
    "    global fig, ax\n",
    "    ax.cla()\n",
    "    goals_reached = (reached)\n",
    "    goals_not_reached = (not_reached)\n",
    "    index = np.arange(1)\n",
    "    eConf = {'ecolor': '0.3'}\n",
    "    ax.bar(index, goals_reached, align='edge', width=0.1, alpha=0.4,\n",
    "    color='b', error_kw=eConf, label='reached goal')\n",
    "    ax.bar(index-0.1, goals_not_reached, align='edge', width=0.1, alpha=0.4,\n",
    "    color='r', error_kw=eConf, label='not reached goal')\n",
    "    ax.set_xlabel('')\n",
    "    ax.set_ylabel('')\n",
    "    ax.set_title('number of reached vs not reached goals')\n",
    "    ax.set_xticks(index + 0.35, (''))\n",
    "    ax.legend()\n",
    "    plt.show()"
   ]
  },
  {
   "cell_type": "code",
   "execution_count": null,
   "id": "f122ef96",
   "metadata": {
    "ExecuteTime": {
     "end_time": "2022-05-03T21:07:04.134716Z",
     "start_time": "2022-05-03T21:07:04.042347Z"
    }
   },
   "outputs": [],
   "source": [
    "button1.on_click(OnButton1Clicked)\n",
    "button2.on_click(OnButton2Clicked)\n",
    "button3.on_click(OnButton3Clicked)\n",
    "button4.on_click(OnButton4Clicked)"
   ]
  }
 ],
 "metadata": {
  "kernelspec": {
   "display_name": "Python 3 (ipykernel)",
   "language": "python",
   "name": "python3"
  },
  "language_info": {
   "codemirror_mode": {
    "name": "ipython",
    "version": 3
   },
   "file_extension": ".py",
   "mimetype": "text/x-python",
   "name": "python",
   "nbconvert_exporter": "python",
   "pygments_lexer": "ipython3",
   "version": "3.8.5"
  },
  "toc": {
   "base_numbering": 1,
   "nav_menu": {},
   "number_sections": true,
   "sideBar": true,
   "skip_h1_title": false,
   "title_cell": "Table of Contents",
   "title_sidebar": "Contents",
   "toc_cell": false,
   "toc_position": {},
   "toc_section_display": true,
   "toc_window_display": false
  },
  "varInspector": {
   "cols": {
    "lenName": 16,
    "lenType": 16,
    "lenVar": 40
   },
   "kernels_config": {
    "python": {
     "delete_cmd_postfix": "",
     "delete_cmd_prefix": "del ",
     "library": "var_list.py",
     "varRefreshCmd": "print(var_dic_list())"
    },
    "r": {
     "delete_cmd_postfix": ") ",
     "delete_cmd_prefix": "rm(",
     "library": "var_list.r",
     "varRefreshCmd": "cat(var_dic_list()) "
    }
   },
   "types_to_exclude": [
    "module",
    "function",
    "builtin_function_or_method",
    "instance",
    "_Feature"
   ],
   "window_display": false
  }
 },
 "nbformat": 4,
 "nbformat_minor": 5
}
